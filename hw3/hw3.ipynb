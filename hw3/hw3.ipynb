{
 "cells": [
  {
   "cell_type": "code",
   "execution_count": 1,
   "metadata": {},
   "outputs": [
    {
     "name": "stderr",
     "output_type": "stream",
     "text": [
      "/home/sean/anaconda3/lib/python3.6/site-packages/h5py/__init__.py:36: FutureWarning: Conversion of the second argument of issubdtype from `float` to `np.floating` is deprecated. In future, it will be treated as `np.float64 == np.dtype(float).type`.\n",
      "  from ._conv import register_converters as _register_converters\n",
      "Using TensorFlow backend.\n"
     ]
    }
   ],
   "source": [
    "import keras\n",
    "from keras.models import Sequential\n",
    "from keras.layers import Dense, Dropout, Activation, Conv2D, MaxPooling2D, Flatten\n",
    "from keras.optimizers import SGD, Adam\n",
    "from keras import backend as K\n",
    "import pandas as pd\n",
    "import numpy as np\n",
    "import ipdb"
   ]
  },
  {
   "cell_type": "markdown",
   "metadata": {},
   "source": [
    "# 读入数据\n",
    "由于数据集较大，我们这里采用将其切成一个个ｃｈｕｎｋ来读入，否则内存会全部背耗光"
   ]
  },
  {
   "cell_type": "code",
   "execution_count": 2,
   "metadata": {},
   "outputs": [],
   "source": [
    "def loadData():\n",
    "    reader_1 = pd.read_csv('train.csv', chunksize=1000)\n",
    "    y_train = []\n",
    "    x_train = []\n",
    "    for chunk in reader_1:\n",
    "        y_train += list(chunk.label)\n",
    "        for i in chunk.feature:\n",
    "            i = list(map(int, i.split(' ')))\n",
    "            x_train += [i]\n",
    "    y_train = np.array(y_train)\n",
    "    x_train = np.array(x_train)\n",
    "\n",
    "    reader_2 = pd.read_csv('test.csv', chunksize=1000)\n",
    "    x_test = []\n",
    "    for chunk in reader_2:\n",
    "        for i in chunk.feature:\n",
    "            i = list(map(int, i.split(' ')))\n",
    "            x_test += [i]\n",
    "    x_test = np.array(x_test)\n",
    "    return x_train, y_train, x_test"
   ]
  },
  {
   "cell_type": "code",
   "execution_count": 3,
   "metadata": {},
   "outputs": [],
   "source": [
    "x_train, y_train, x_test = loadData()"
   ]
  },
  {
   "cell_type": "code",
   "execution_count": 4,
   "metadata": {},
   "outputs": [],
   "source": [
    "x_train = x_train.reshape(x_train.shape[0], 48, 48)\n",
    "x_test = x_test.reshape(x_test.shape[0], 48, 48)"
   ]
  },
  {
   "cell_type": "markdown",
   "metadata": {},
   "source": [
    "# 玄学调参"
   ]
  },
  {
   "cell_type": "code",
   "execution_count": 5,
   "metadata": {},
   "outputs": [
    {
     "name": "stdout",
     "output_type": "stream",
     "text": [
      "x_train shape: (28709, 48, 48, 1)\n",
      "28709 train samples\n",
      "7178 test samples\n"
     ]
    }
   ],
   "source": [
    "img_rows = 48\n",
    "img_cols = 48\n",
    "num_classes = 7\n",
    "\n",
    "if K.image_data_format() == 'channels_first':\n",
    "    x_train = x_train.reshape(x_train.shape[0], 1, img_rows, img_cols)\n",
    "    x_test = x_test.reshape(x_test.shape[0], 1, img_rows, img_cols)\n",
    "    input_shape = (1, img_rows, img_cols)\n",
    "else:\n",
    "    x_train = x_train.reshape(x_train.shape[0], img_rows, img_cols, 1)\n",
    "    x_test = x_test.reshape(x_test.shape[0], img_rows, img_cols, 1)\n",
    "    input_shape = (img_rows, img_cols, 1)\n",
    "\n",
    "x_train = x_train.astype('float32')\n",
    "x_test = x_test.astype('float32')\n",
    "x_train /= 255\n",
    "x_test /= 255\n",
    "\n",
    "print('x_train shape:', x_train.shape)\n",
    "print(x_train.shape[0], 'train samples')\n",
    "print(x_test.shape[0], 'test samples')\n",
    "\n",
    "y_train = keras.utils.to_categorical(y_train, num_classes)"
   ]
  },
  {
   "cell_type": "code",
   "execution_count": null,
   "metadata": {},
   "outputs": [
    {
     "name": "stderr",
     "output_type": "stream",
     "text": [
      "/home/sean/anaconda3/lib/python3.6/site-packages/ipykernel_launcher.py:7: UserWarning: Update your `Dense` call to the Keras 2 API: `Dense(activation=\"relu\", units=100)`\n",
      "  import sys\n",
      "/home/sean/anaconda3/lib/python3.6/site-packages/ipykernel_launcher.py:9: UserWarning: Update your `Dense` call to the Keras 2 API: `Dense(activation=\"softmax\", units=7)`\n",
      "  if __name__ == '__main__':\n"
     ]
    },
    {
     "name": "stdout",
     "output_type": "stream",
     "text": [
      "Epoch 1/12\n",
      "28709/28709 [==============================] - 151s 5ms/step - loss: 1.7119 - acc: 0.3151\n",
      "Epoch 2/12\n",
      "28709/28709 [==============================] - 138s 5ms/step - loss: 1.5034 - acc: 0.4254\n",
      "Epoch 3/12\n",
      "28709/28709 [==============================] - 137s 5ms/step - loss: 1.3735 - acc: 0.4792\n",
      "Epoch 4/12\n",
      "28709/28709 [==============================] - 137s 5ms/step - loss: 1.2749 - acc: 0.5190\n",
      "Epoch 5/12\n",
      "28709/28709 [==============================] - 137s 5ms/step - loss: 1.1782 - acc: 0.5592\n",
      "Epoch 6/12\n",
      "28709/28709 [==============================] - 168s 6ms/step - loss: 1.0728 - acc: 0.6028\n",
      "Epoch 7/12\n",
      "28709/28709 [==============================] - 168s 6ms/step - loss: 0.9395 - acc: 0.6579\n",
      "Epoch 8/12\n",
      "28709/28709 [==============================] - 143s 5ms/step - loss: 0.7843 - acc: 0.7202\n",
      "Epoch 9/12\n",
      "28709/28709 [==============================] - 139s 5ms/step - loss: 0.6121 - acc: 0.7884\n",
      "Epoch 10/12\n",
      "28709/28709 [==============================] - 138s 5ms/step - loss: 0.4390 - acc: 0.8554\n",
      "Epoch 11/12\n",
      "28709/28709 [==============================] - 139s 5ms/step - loss: 0.2854 - acc: 0.9119\n",
      "Epoch 12/12\n",
      "28709/28709 [==============================] - 136s 5ms/step - loss: 0.1726 - acc: 0.9516\n"
     ]
    }
   ],
   "source": [
    "model = Sequential()\n",
    "model.add(Conv2D(25, kernel_size=(3, 3),activation='relu', input_shape=input_shape))\n",
    "model.add(Conv2D(50, (3, 3), activation='relu'))\n",
    "model.add(MaxPooling2D(pool_size=(2, 2)))\n",
    "model.add(Dropout(0.25))\n",
    "model.add(Flatten())\n",
    "model.add(Dense(output_dim = 100, activation='relu'))\n",
    "model.add(Dropout(0.5))\n",
    "model.add(Dense(output_dim = num_classes, activation='softmax'))\n",
    "    \n",
    "model.compile(loss=keras.losses.categorical_crossentropy, optimizer=keras.optimizers.Adadelta(), metrics=['accuracy'])\n",
    "model.fit(x_train, y_train, batch_size=128, epochs=12)\n",
    "score = model.evaluate(x_train, y_train, batch_size=10000)\n",
    "print('Train loss', score[0])\n",
    "print('Train accuracy', score[1])\n",
    "yhat = model.predict(x_test, batch_size=100)\n",
    "yhat = np.argmax(yhat, axis=1)"
   ]
  },
  {
   "cell_type": "code",
   "execution_count": null,
   "metadata": {},
   "outputs": [],
   "source": [
    "score = model.evaluate(x_train, y_train, batch_size=10000)\n",
    "print('Train loss', score[0])\n",
    "print('Train accuracy', score[1])\n",
    "yhat = model.predict(x_test, batch_size=100)\n",
    "yhat = np.argmax(yhat, axis=1)\n",
    "result = pd.DataFrame(yhat)\n",
    "result.to_csv('submission.csv')"
   ]
  }
 ],
 "metadata": {
  "kernelspec": {
   "display_name": "Python 3",
   "language": "python",
   "name": "python3"
  },
  "language_info": {
   "codemirror_mode": {
    "name": "ipython",
    "version": 3
   },
   "file_extension": ".py",
   "mimetype": "text/x-python",
   "name": "python",
   "nbconvert_exporter": "python",
   "pygments_lexer": "ipython3",
   "version": "3.6.5"
  }
 },
 "nbformat": 4,
 "nbformat_minor": 2
}
