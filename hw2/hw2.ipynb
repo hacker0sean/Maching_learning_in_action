{
 "cells": [
  {
   "cell_type": "code",
   "execution_count": 58,
   "metadata": {},
   "outputs": [],
   "source": [
    "import pandas as pd\n",
    "import numpy as np\n",
    "from xgboost import XGBClassifier\n",
    "import matplotlib.pyplot as plt\n",
    "from xgboost import plot_importance\n",
    "%matplotlib inline\n",
    "from sklearn.model_selection import GridSearchCV\n",
    "from sklearn.model_selection import StratifiedKFold"
   ]
  },
  {
   "cell_type": "markdown",
   "metadata": {},
   "source": [
    "# 1.训练\n",
    "## 1.1数据预处理\n",
    "删除fnlwgt以及训练集中的`?`项, 并进行one-hot-encode, 对于test中的nan中默认忽略（get_dummies中dummy_na参数设置为False）"
   ]
  },
  {
   "cell_type": "code",
   "execution_count": 5,
   "metadata": {},
   "outputs": [],
   "source": [
    "def one_hot_encoding(df, column_name):\n",
    "    select = df[column_name] \n",
    "    one_hot_encode = pd.get_dummies(select)\n",
    "    df = pd.concat([df, one_hot_encode], axis=1)\n",
    "    df = df.drop(column_name, axis=1)\n",
    "    return df"
   ]
  },
  {
   "cell_type": "code",
   "execution_count": 6,
   "metadata": {},
   "outputs": [],
   "source": [
    "def score(yhat, y):\n",
    "    return (yhat == y).sum() / len(yhat)"
   ]
  },
  {
   "cell_type": "code",
   "execution_count": 7,
   "metadata": {},
   "outputs": [],
   "source": [
    "test = pd.read_csv('test.csv')\n",
    "train = pd.read_csv('train.csv')\n",
    "train_and_test = [train, test]"
   ]
  },
  {
   "cell_type": "code",
   "execution_count": 8,
   "metadata": {},
   "outputs": [],
   "source": [
    "continuous = ['age', 'education_num', 'capital_gain', 'capital_loss', 'hours_per_week']"
   ]
  },
  {
   "cell_type": "code",
   "execution_count": 9,
   "metadata": {},
   "outputs": [],
   "source": [
    "for dframe in train_and_test:\n",
    "    dframe = dframe.replace(' ?', np.NAN)\n",
    "    dframe = dframe.drop('fnlwgt', axis=1)\n",
    "    if (dframe.shape[0] > 30000):\n",
    "        dframe = dframe.dropna()    \n",
    "    discrete_feature = list(dframe.columns)\n",
    "    for i in continuous:\n",
    "        discrete_feature.remove(i)\n",
    "        \n",
    "    for i in discrete_feature:\n",
    "        dframe = one_hot_encoding(dframe, i)\n",
    "    if (dframe.shape[0] > 30000):\n",
    "        train = dframe\n",
    "    else:\n",
    "        test = dframe"
   ]
  },
  {
   "cell_type": "markdown",
   "metadata": {},
   "source": [
    "## 1.2 找出训练集\n",
    "找出train_x, train_y, test_x并对其正规化"
   ]
  },
  {
   "cell_type": "code",
   "execution_count": 10,
   "metadata": {},
   "outputs": [],
   "source": [
    "train_x = train.iloc[:, :-2]\n",
    "train_y = train.iloc[:, -1] ## >50K\n",
    "test_x = test"
   ]
  },
  {
   "cell_type": "code",
   "execution_count": 11,
   "metadata": {},
   "outputs": [],
   "source": [
    "for i in continuous:\n",
    "    temp_train = train_x[i]\n",
    "    temp_test = test_x[i]\n",
    "    train_x[i] = (temp_train - np.mean(temp_train)) / np.std(temp_train)\n",
    "    test_x[i] = (temp_test - np.mean(temp_test)) / np.std(temp_test)"
   ]
  },
  {
   "cell_type": "markdown",
   "metadata": {},
   "source": [
    "在train_x中选取test_x中出现的项"
   ]
  },
  {
   "cell_type": "code",
   "execution_count": 12,
   "metadata": {},
   "outputs": [
    {
     "name": "stderr",
     "output_type": "stream",
     "text": [
      "/home/sean/anaconda3/lib/python3.6/site-packages/pandas/core/indexing.py:1472: FutureWarning: \n",
      "Passing list-likes to .loc or [] with any missing label will raise\n",
      "KeyError in the future, you can use .reindex() as an alternative.\n",
      "\n",
      "See the documentation here:\n",
      "https://pandas.pydata.org/pandas-docs/stable/indexing.html#deprecate-loc-reindex-listlike\n",
      "  return self._getitem_tuple(key)\n"
     ]
    }
   ],
   "source": [
    "train_X = train_x.loc[:,list(test_x.columns)]"
   ]
  },
  {
   "cell_type": "code",
   "execution_count": 13,
   "metadata": {},
   "outputs": [
    {
     "data": {
      "text/plain": [
       "XGBClassifier(base_score=0.5, booster='gbtree', colsample_bylevel=1,\n",
       "       colsample_bytree=1, gamma=0, learning_rate=0.1, max_delta_step=0,\n",
       "       max_depth=3, min_child_weight=1, missing=None, n_estimators=100,\n",
       "       n_jobs=1, nthread=None, objective='binary:logistic', random_state=0,\n",
       "       reg_alpha=0, reg_lambda=1, scale_pos_weight=1, seed=None,\n",
       "       silent=True, subsample=1)"
      ]
     },
     "execution_count": 13,
     "metadata": {},
     "output_type": "execute_result"
    }
   ],
   "source": [
    "XGB = XGBClassifier()\n",
    "XGB.fit(train_X, train_y)"
   ]
  },
  {
   "cell_type": "markdown",
   "metadata": {},
   "source": [
    "# 2.测试"
   ]
  },
  {
   "cell_type": "code",
   "execution_count": 73,
   "metadata": {},
   "outputs": [
    {
     "name": "stderr",
     "output_type": "stream",
     "text": [
      "/home/sean/anaconda3/lib/python3.6/site-packages/sklearn/preprocessing/label.py:151: DeprecationWarning: The truth value of an empty array is ambiguous. Returning False, but in future this will result in an error. Use `array.size > 0` to check that an array is not empty.\n",
      "  if diff:\n"
     ]
    },
    {
     "data": {
      "text/plain": [
       "0.865118850193477"
      ]
     },
     "execution_count": 73,
     "metadata": {},
     "output_type": "execute_result"
    }
   ],
   "source": [
    "yhat = XGB.predict(test_x)\n",
    "ans = pd.read_csv('correct_answer.csv')\n",
    "y = ans.label\n",
    "score(yhat, y)"
   ]
  },
  {
   "cell_type": "markdown",
   "metadata": {},
   "source": [
    "# 3.改进"
   ]
  },
  {
   "cell_type": "markdown",
   "metadata": {},
   "source": [
    "根据importance我们发现只有那些continous数据跟最后的收入关系较大"
   ]
  },
  {
   "cell_type": "code",
   "execution_count": 46,
   "metadata": {},
   "outputs": [
    {
     "data": {
      "text/plain": [
       "array(['age', 'education_num', 'capital_gain', 'capital_loss',\n",
       "       'hours_per_week'], dtype=object)"
      ]
     },
     "execution_count": 46,
     "metadata": {},
     "output_type": "execute_result"
    }
   ],
   "source": [
    "train_columns = np.array(train_x.columns)\n",
    "select_columns = train_columns[XGB.feature_importances_ > 0.1]\n",
    "select_columns"
   ]
  },
  {
   "cell_type": "code",
   "execution_count": 52,
   "metadata": {
    "scrolled": true
   },
   "outputs": [
    {
     "data": {
      "text/html": [
       "<div>\n",
       "<style scoped>\n",
       "    .dataframe tbody tr th:only-of-type {\n",
       "        vertical-align: middle;\n",
       "    }\n",
       "\n",
       "    .dataframe tbody tr th {\n",
       "        vertical-align: top;\n",
       "    }\n",
       "\n",
       "    .dataframe thead th {\n",
       "        text-align: right;\n",
       "    }\n",
       "</style>\n",
       "<table border=\"1\" class=\"dataframe\">\n",
       "  <thead>\n",
       "    <tr style=\"text-align: right;\">\n",
       "      <th></th>\n",
       "      <th>age</th>\n",
       "      <th>education_num</th>\n",
       "      <th>capital_gain</th>\n",
       "      <th>capital_loss</th>\n",
       "      <th>hours_per_week</th>\n",
       "    </tr>\n",
       "  </thead>\n",
       "  <tbody>\n",
       "    <tr>\n",
       "      <th>0</th>\n",
       "      <td>0.042796</td>\n",
       "      <td>1.128918</td>\n",
       "      <td>0.146092</td>\n",
       "      <td>-0.218586</td>\n",
       "      <td>-0.077734</td>\n",
       "    </tr>\n",
       "    <tr>\n",
       "      <th>1</th>\n",
       "      <td>0.880288</td>\n",
       "      <td>1.128918</td>\n",
       "      <td>-0.147445</td>\n",
       "      <td>-0.218586</td>\n",
       "      <td>-2.331531</td>\n",
       "    </tr>\n",
       "    <tr>\n",
       "      <th>2</th>\n",
       "      <td>-0.033340</td>\n",
       "      <td>-0.439738</td>\n",
       "      <td>-0.147445</td>\n",
       "      <td>-0.218586</td>\n",
       "      <td>-0.077734</td>\n",
       "    </tr>\n",
       "    <tr>\n",
       "      <th>3</th>\n",
       "      <td>1.108695</td>\n",
       "      <td>-1.224066</td>\n",
       "      <td>-0.147445</td>\n",
       "      <td>-0.218586</td>\n",
       "      <td>-0.077734</td>\n",
       "    </tr>\n",
       "    <tr>\n",
       "      <th>4</th>\n",
       "      <td>-0.794697</td>\n",
       "      <td>1.128918</td>\n",
       "      <td>-0.147445</td>\n",
       "      <td>-0.218586</td>\n",
       "      <td>-0.077734</td>\n",
       "    </tr>\n",
       "  </tbody>\n",
       "</table>\n",
       "</div>"
      ],
      "text/plain": [
       "        age  education_num  capital_gain  capital_loss  hours_per_week\n",
       "0  0.042796       1.128918      0.146092     -0.218586       -0.077734\n",
       "1  0.880288       1.128918     -0.147445     -0.218586       -2.331531\n",
       "2 -0.033340      -0.439738     -0.147445     -0.218586       -0.077734\n",
       "3  1.108695      -1.224066     -0.147445     -0.218586       -0.077734\n",
       "4 -0.794697       1.128918     -0.147445     -0.218586       -0.077734"
      ]
     },
     "execution_count": 52,
     "metadata": {},
     "output_type": "execute_result"
    }
   ],
   "source": [
    "train_X = train_x.loc[:, select_columns]\n",
    "train_X.head()"
   ]
  },
  {
   "cell_type": "code",
   "execution_count": 56,
   "metadata": {},
   "outputs": [
    {
     "data": {
      "text/html": [
       "<div>\n",
       "<style scoped>\n",
       "    .dataframe tbody tr th:only-of-type {\n",
       "        vertical-align: middle;\n",
       "    }\n",
       "\n",
       "    .dataframe tbody tr th {\n",
       "        vertical-align: top;\n",
       "    }\n",
       "\n",
       "    .dataframe thead th {\n",
       "        text-align: right;\n",
       "    }\n",
       "</style>\n",
       "<table border=\"1\" class=\"dataframe\">\n",
       "  <thead>\n",
       "    <tr style=\"text-align: right;\">\n",
       "      <th></th>\n",
       "      <th>age</th>\n",
       "      <th>education_num</th>\n",
       "      <th>capital_gain</th>\n",
       "      <th>capital_loss</th>\n",
       "      <th>hours_per_week</th>\n",
       "    </tr>\n",
       "  </thead>\n",
       "  <tbody>\n",
       "    <tr>\n",
       "      <th>0</th>\n",
       "      <td>-0.994129</td>\n",
       "      <td>-1.196864</td>\n",
       "      <td>-0.142662</td>\n",
       "      <td>-0.218062</td>\n",
       "      <td>-0.031432</td>\n",
       "    </tr>\n",
       "    <tr>\n",
       "      <th>1</th>\n",
       "      <td>-0.055417</td>\n",
       "      <td>-0.417886</td>\n",
       "      <td>-0.142662</td>\n",
       "      <td>-0.218062</td>\n",
       "      <td>0.769918</td>\n",
       "    </tr>\n",
       "    <tr>\n",
       "      <th>2</th>\n",
       "      <td>-0.777503</td>\n",
       "      <td>0.750582</td>\n",
       "      <td>-0.142662</td>\n",
       "      <td>-0.218062</td>\n",
       "      <td>-0.031432</td>\n",
       "    </tr>\n",
       "    <tr>\n",
       "      <th>3</th>\n",
       "      <td>0.377835</td>\n",
       "      <td>-0.028397</td>\n",
       "      <td>0.871091</td>\n",
       "      <td>-0.218062</td>\n",
       "      <td>-0.031432</td>\n",
       "    </tr>\n",
       "    <tr>\n",
       "      <th>4</th>\n",
       "      <td>-1.499590</td>\n",
       "      <td>-0.028397</td>\n",
       "      <td>-0.142662</td>\n",
       "      <td>-0.218062</td>\n",
       "      <td>-0.832781</td>\n",
       "    </tr>\n",
       "  </tbody>\n",
       "</table>\n",
       "</div>"
      ],
      "text/plain": [
       "        age  education_num  capital_gain  capital_loss  hours_per_week\n",
       "0 -0.994129      -1.196864     -0.142662     -0.218062       -0.031432\n",
       "1 -0.055417      -0.417886     -0.142662     -0.218062        0.769918\n",
       "2 -0.777503       0.750582     -0.142662     -0.218062       -0.031432\n",
       "3  0.377835      -0.028397      0.871091     -0.218062       -0.031432\n",
       "4 -1.499590      -0.028397     -0.142662     -0.218062       -0.832781"
      ]
     },
     "execution_count": 56,
     "metadata": {},
     "output_type": "execute_result"
    }
   ],
   "source": [
    "test_X = test_x.loc[:, select_columns]\n",
    "test_X.head()"
   ]
  },
  {
   "cell_type": "code",
   "execution_count": 57,
   "metadata": {},
   "outputs": [
    {
     "name": "stderr",
     "output_type": "stream",
     "text": [
      "/home/sean/anaconda3/lib/python3.6/site-packages/sklearn/preprocessing/label.py:151: DeprecationWarning: The truth value of an empty array is ambiguous. Returning False, but in future this will result in an error. Use `array.size > 0` to check that an array is not empty.\n",
      "  if diff:\n"
     ]
    },
    {
     "data": {
      "text/plain": [
       "0.831275720164609"
      ]
     },
     "execution_count": 57,
     "metadata": {},
     "output_type": "execute_result"
    }
   ],
   "source": [
    "XGB = XGBClassifier()\n",
    "XGB.fit(train_X, train_y)\n",
    "yhat = XGB.predict(test_X)\n",
    "score(yhat, y)"
   ]
  },
  {
   "cell_type": "markdown",
   "metadata": {},
   "source": [
    "这里所得到的结果反而变差了， 但是计算速度得到了提升， 所以我们采用一开始的模型，当然我们可以考虑去掉那些ｉｍｐｏｒｔａｎｃｅ＝０的项，这样得到的score应该会稍微高一点，同时计算效率也会有一定保证。"
   ]
  },
  {
   "cell_type": "markdown",
   "metadata": {},
   "source": [
    "# 4.调参"
   ]
  },
  {
   "cell_type": "code",
   "execution_count": 63,
   "metadata": {},
   "outputs": [
    {
     "name": "stderr",
     "output_type": "stream",
     "text": [
      "/home/sean/anaconda3/lib/python3.6/site-packages/pandas/core/indexing.py:1472: FutureWarning: \n",
      "Passing list-likes to .loc or [] with any missing label will raise\n",
      "KeyError in the future, you can use .reindex() as an alternative.\n",
      "\n",
      "See the documentation here:\n",
      "https://pandas.pydata.org/pandas-docs/stable/indexing.html#deprecate-loc-reindex-listlike\n",
      "  return self._getitem_tuple(key)\n"
     ]
    }
   ],
   "source": [
    "train_x = train.iloc[:, :-2]\n",
    "train_y = train.iloc[:, -1] ## >50K\n",
    "test_x = test\n",
    "\n",
    "for i in continuous:\n",
    "    temp_train = train_x[i]\n",
    "    temp_test = test_x[i]\n",
    "    train_x[i] = (temp_train - np.mean(temp_train)) / np.std(temp_train)\n",
    "    test_x[i] = (temp_test - np.mean(temp_test)) / np.std(temp_test)\n",
    "    \n",
    "train_X = train_x.loc[:,np.array(test_x.columns)]"
   ]
  },
  {
   "cell_type": "code",
   "execution_count": 67,
   "metadata": {},
   "outputs": [],
   "source": [
    "model = XGBClassifier()\n",
    "learning_rate = [0.00001, 0.0001, 0.001, 0.01, 0.1, 0.2]\n",
    "param_dict = dict(learning_rate=learning_rate)\n",
    "kfold = StratifiedKFold(n_splits=10, shuffle=True, random_state=7)\n",
    "grid_search = GridSearchCV(model, param_dict, scoring=\"neg_log_loss\", n_jobs=-1, cv=kfold)\n",
    "grid_result = grid_search.fit(train_X, train_y)"
   ]
  },
  {
   "cell_type": "code",
   "execution_count": null,
   "metadata": {},
   "outputs": [],
   "source": [
    "XGB = XGBClassifier(gamma=0.1, max_depth=5, min_child_weight=1, subsample=0.8, n_estimators=1000)\n",
    "XGB.fit(train_X, train_y)\n",
    "yhat = XGB.predict(test_x)\n",
    "score(yhat, y)"
   ]
  }
 ],
 "metadata": {
  "kernelspec": {
   "display_name": "Python 3",
   "language": "python",
   "name": "python3"
  },
  "language_info": {
   "codemirror_mode": {
    "name": "ipython",
    "version": 3
   },
   "file_extension": ".py",
   "mimetype": "text/x-python",
   "name": "python",
   "nbconvert_exporter": "python",
   "pygments_lexer": "ipython3",
   "version": "3.6.5"
  }
 },
 "nbformat": 4,
 "nbformat_minor": 2
}
