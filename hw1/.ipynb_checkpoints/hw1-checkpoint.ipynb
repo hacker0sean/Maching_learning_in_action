{
 "cells": [
  {
   "cell_type": "code",
   "execution_count": 1,
   "metadata": {},
   "outputs": [
    {
     "name": "stderr",
     "output_type": "stream",
     "text": [
      "/home/sean/anaconda3/lib/python3.6/site-packages/sklearn/cross_validation.py:41: DeprecationWarning: This module was deprecated in version 0.18 in favor of the model_selection module into which all the refactored classes and functions are moved. Also note that the interface of the new CV iterators are different from that of this module. This module will be removed in 0.20.\n",
      "  \"This module will be removed in 0.20.\", DeprecationWarning)\n"
     ]
    }
   ],
   "source": [
    "import pandas as pd\n",
    "import numpy as np\n",
    "from sklearn.linear_model import LinearRegression\n",
    "from sklearn.cross_validation import cross_val_score\n",
    "import matplotlib.pyplot as plt\n",
    "%matplotlib inline"
   ]
  },
  {
   "cell_type": "markdown",
   "metadata": {},
   "source": [
    "# 1. 训练"
   ]
  },
  {
   "cell_type": "markdown",
   "metadata": {},
   "source": [
    " ## 1. 1数据整理\n",
    "读入数据，观察得到数据没有缺失值。数据主要存在两个问题，第一个就是没有下雨的RAINFOW值为NR，第二个就是存在大量的字符型数字，不利于将来处理，因此首先要解决这两个问题"
   ]
  },
  {
   "cell_type": "code",
   "execution_count": 2,
   "metadata": {},
   "outputs": [],
   "source": [
    "data = pd.read_csv('train.csv', encoding='big5',engine='python')\n",
    "data = data.iloc[:, range(2, data.shape[1])]\n",
    "test = pd.read_csv('test.csv', encoding='big5', header=None)"
   ]
  },
  {
   "cell_type": "code",
   "execution_count": 3,
   "metadata": {},
   "outputs": [],
   "source": [
    "data.columns = ['factor', '0', '1', '2', '3', '4', '5', '6', '7', '8', '9', '10', '11',\n",
    "       '12', '13', '14', '15', '16', '17', '18', '19', '20', '21', '22', '23']"
   ]
  },
  {
   "cell_type": "code",
   "execution_count": 4,
   "metadata": {},
   "outputs": [
    {
     "data": {
      "text/html": [
       "<div>\n",
       "<style scoped>\n",
       "    .dataframe tbody tr th:only-of-type {\n",
       "        vertical-align: middle;\n",
       "    }\n",
       "\n",
       "    .dataframe tbody tr th {\n",
       "        vertical-align: top;\n",
       "    }\n",
       "\n",
       "    .dataframe thead th {\n",
       "        text-align: right;\n",
       "    }\n",
       "</style>\n",
       "<table border=\"1\" class=\"dataframe\">\n",
       "  <thead>\n",
       "    <tr style=\"text-align: right;\">\n",
       "      <th></th>\n",
       "      <th>factor</th>\n",
       "      <th>0</th>\n",
       "      <th>1</th>\n",
       "      <th>2</th>\n",
       "      <th>3</th>\n",
       "      <th>4</th>\n",
       "      <th>5</th>\n",
       "      <th>6</th>\n",
       "      <th>7</th>\n",
       "      <th>8</th>\n",
       "      <th>...</th>\n",
       "      <th>14</th>\n",
       "      <th>15</th>\n",
       "      <th>16</th>\n",
       "      <th>17</th>\n",
       "      <th>18</th>\n",
       "      <th>19</th>\n",
       "      <th>20</th>\n",
       "      <th>21</th>\n",
       "      <th>22</th>\n",
       "      <th>23</th>\n",
       "    </tr>\n",
       "  </thead>\n",
       "  <tbody>\n",
       "    <tr>\n",
       "      <th>0</th>\n",
       "      <td>AMB_TEMP</td>\n",
       "      <td>14</td>\n",
       "      <td>14</td>\n",
       "      <td>14</td>\n",
       "      <td>13</td>\n",
       "      <td>12</td>\n",
       "      <td>12</td>\n",
       "      <td>12</td>\n",
       "      <td>12</td>\n",
       "      <td>15</td>\n",
       "      <td>...</td>\n",
       "      <td>22</td>\n",
       "      <td>22</td>\n",
       "      <td>21</td>\n",
       "      <td>19</td>\n",
       "      <td>17</td>\n",
       "      <td>16</td>\n",
       "      <td>15</td>\n",
       "      <td>15</td>\n",
       "      <td>15</td>\n",
       "      <td>15</td>\n",
       "    </tr>\n",
       "    <tr>\n",
       "      <th>1</th>\n",
       "      <td>CH4</td>\n",
       "      <td>1.8</td>\n",
       "      <td>1.8</td>\n",
       "      <td>1.8</td>\n",
       "      <td>1.8</td>\n",
       "      <td>1.8</td>\n",
       "      <td>1.8</td>\n",
       "      <td>1.8</td>\n",
       "      <td>1.8</td>\n",
       "      <td>1.8</td>\n",
       "      <td>...</td>\n",
       "      <td>1.8</td>\n",
       "      <td>1.8</td>\n",
       "      <td>1.8</td>\n",
       "      <td>1.8</td>\n",
       "      <td>1.8</td>\n",
       "      <td>1.8</td>\n",
       "      <td>1.8</td>\n",
       "      <td>1.8</td>\n",
       "      <td>1.8</td>\n",
       "      <td>1.8</td>\n",
       "    </tr>\n",
       "    <tr>\n",
       "      <th>2</th>\n",
       "      <td>CO</td>\n",
       "      <td>0.51</td>\n",
       "      <td>0.41</td>\n",
       "      <td>0.39</td>\n",
       "      <td>0.37</td>\n",
       "      <td>0.35</td>\n",
       "      <td>0.3</td>\n",
       "      <td>0.37</td>\n",
       "      <td>0.47</td>\n",
       "      <td>0.78</td>\n",
       "      <td>...</td>\n",
       "      <td>0.37</td>\n",
       "      <td>0.37</td>\n",
       "      <td>0.47</td>\n",
       "      <td>0.69</td>\n",
       "      <td>0.56</td>\n",
       "      <td>0.45</td>\n",
       "      <td>0.38</td>\n",
       "      <td>0.35</td>\n",
       "      <td>0.36</td>\n",
       "      <td>0.32</td>\n",
       "    </tr>\n",
       "    <tr>\n",
       "      <th>3</th>\n",
       "      <td>NMHC</td>\n",
       "      <td>0.2</td>\n",
       "      <td>0.15</td>\n",
       "      <td>0.13</td>\n",
       "      <td>0.12</td>\n",
       "      <td>0.11</td>\n",
       "      <td>0.06</td>\n",
       "      <td>0.1</td>\n",
       "      <td>0.13</td>\n",
       "      <td>0.26</td>\n",
       "      <td>...</td>\n",
       "      <td>0.1</td>\n",
       "      <td>0.13</td>\n",
       "      <td>0.14</td>\n",
       "      <td>0.23</td>\n",
       "      <td>0.18</td>\n",
       "      <td>0.12</td>\n",
       "      <td>0.1</td>\n",
       "      <td>0.09</td>\n",
       "      <td>0.1</td>\n",
       "      <td>0.08</td>\n",
       "    </tr>\n",
       "    <tr>\n",
       "      <th>4</th>\n",
       "      <td>NO</td>\n",
       "      <td>0.9</td>\n",
       "      <td>0.6</td>\n",
       "      <td>0.5</td>\n",
       "      <td>1.7</td>\n",
       "      <td>1.8</td>\n",
       "      <td>1.5</td>\n",
       "      <td>1.9</td>\n",
       "      <td>2.2</td>\n",
       "      <td>6.6</td>\n",
       "      <td>...</td>\n",
       "      <td>2.5</td>\n",
       "      <td>2.2</td>\n",
       "      <td>2.5</td>\n",
       "      <td>2.3</td>\n",
       "      <td>2.1</td>\n",
       "      <td>1.9</td>\n",
       "      <td>1.5</td>\n",
       "      <td>1.6</td>\n",
       "      <td>1.8</td>\n",
       "      <td>1.5</td>\n",
       "    </tr>\n",
       "  </tbody>\n",
       "</table>\n",
       "<p>5 rows × 25 columns</p>\n",
       "</div>"
      ],
      "text/plain": [
       "     factor     0     1     2     3     4     5     6     7     8  ...     14  \\\n",
       "0  AMB_TEMP    14    14    14    13    12    12    12    12    15  ...     22   \n",
       "1       CH4   1.8   1.8   1.8   1.8   1.8   1.8   1.8   1.8   1.8  ...    1.8   \n",
       "2        CO  0.51  0.41  0.39  0.37  0.35   0.3  0.37  0.47  0.78  ...   0.37   \n",
       "3      NMHC   0.2  0.15  0.13  0.12  0.11  0.06   0.1  0.13  0.26  ...    0.1   \n",
       "4        NO   0.9   0.6   0.5   1.7   1.8   1.5   1.9   2.2   6.6  ...    2.5   \n",
       "\n",
       "     15    16    17    18    19    20    21    22    23  \n",
       "0    22    21    19    17    16    15    15    15    15  \n",
       "1   1.8   1.8   1.8   1.8   1.8   1.8   1.8   1.8   1.8  \n",
       "2  0.37  0.47  0.69  0.56  0.45  0.38  0.35  0.36  0.32  \n",
       "3  0.13  0.14  0.23  0.18  0.12   0.1  0.09   0.1  0.08  \n",
       "4   2.2   2.5   2.3   2.1   1.9   1.5   1.6   1.8   1.5  \n",
       "\n",
       "[5 rows x 25 columns]"
      ]
     },
     "execution_count": 4,
     "metadata": {},
     "output_type": "execute_result"
    }
   ],
   "source": [
    "data.head()"
   ]
  },
  {
   "cell_type": "markdown",
   "metadata": {},
   "source": [
    "发现PM2.5浓度的一些异常值"
   ]
  },
  {
   "cell_type": "code",
   "execution_count": 5,
   "metadata": {},
   "outputs": [
    {
     "data": {
      "text/plain": [
       "factor    240\n",
       "0         240\n",
       "1         240\n",
       "2         240\n",
       "3         240\n",
       "4         240\n",
       "5         240\n",
       "6         240\n",
       "7         240\n",
       "8         240\n",
       "9         240\n",
       "10        240\n",
       "11        240\n",
       "12        240\n",
       "13        240\n",
       "14        240\n",
       "15        240\n",
       "16        240\n",
       "17        240\n",
       "18        240\n",
       "19        240\n",
       "20        240\n",
       "21        240\n",
       "22        240\n",
       "23        240\n",
       "dtype: int64"
      ]
     },
     "execution_count": 5,
     "metadata": {},
     "output_type": "execute_result"
    }
   ],
   "source": [
    "(data[data.factor == 'PM2.5'] < 0).sum()"
   ]
  },
  {
   "cell_type": "code",
   "execution_count": 6,
   "metadata": {},
   "outputs": [
    {
     "data": {
      "text/html": [
       "<div>\n",
       "<style scoped>\n",
       "    .dataframe tbody tr th:only-of-type {\n",
       "        vertical-align: middle;\n",
       "    }\n",
       "\n",
       "    .dataframe tbody tr th {\n",
       "        vertical-align: top;\n",
       "    }\n",
       "\n",
       "    .dataframe thead th {\n",
       "        text-align: right;\n",
       "    }\n",
       "</style>\n",
       "<table border=\"1\" class=\"dataframe\">\n",
       "  <thead>\n",
       "    <tr style=\"text-align: right;\">\n",
       "      <th></th>\n",
       "      <th>0</th>\n",
       "      <th>1</th>\n",
       "      <th>2</th>\n",
       "      <th>3</th>\n",
       "      <th>4</th>\n",
       "      <th>5</th>\n",
       "      <th>6</th>\n",
       "      <th>7</th>\n",
       "      <th>8</th>\n",
       "      <th>9</th>\n",
       "      <th>10</th>\n",
       "    </tr>\n",
       "  </thead>\n",
       "  <tbody>\n",
       "    <tr>\n",
       "      <th>0</th>\n",
       "      <td>id_0</td>\n",
       "      <td>AMB_TEMP</td>\n",
       "      <td>15</td>\n",
       "      <td>14</td>\n",
       "      <td>14</td>\n",
       "      <td>13</td>\n",
       "      <td>13</td>\n",
       "      <td>13</td>\n",
       "      <td>13</td>\n",
       "      <td>13</td>\n",
       "      <td>12</td>\n",
       "    </tr>\n",
       "    <tr>\n",
       "      <th>1</th>\n",
       "      <td>id_0</td>\n",
       "      <td>CH4</td>\n",
       "      <td>1.8</td>\n",
       "      <td>1.8</td>\n",
       "      <td>1.8</td>\n",
       "      <td>1.8</td>\n",
       "      <td>1.8</td>\n",
       "      <td>1.8</td>\n",
       "      <td>1.8</td>\n",
       "      <td>1.8</td>\n",
       "      <td>1.8</td>\n",
       "    </tr>\n",
       "    <tr>\n",
       "      <th>2</th>\n",
       "      <td>id_0</td>\n",
       "      <td>CO</td>\n",
       "      <td>0.36</td>\n",
       "      <td>0.35</td>\n",
       "      <td>0.34</td>\n",
       "      <td>0.33</td>\n",
       "      <td>0.33</td>\n",
       "      <td>0.34</td>\n",
       "      <td>0.34</td>\n",
       "      <td>0.37</td>\n",
       "      <td>0.42</td>\n",
       "    </tr>\n",
       "    <tr>\n",
       "      <th>3</th>\n",
       "      <td>id_0</td>\n",
       "      <td>NMHC</td>\n",
       "      <td>0.11</td>\n",
       "      <td>0.09</td>\n",
       "      <td>0.09</td>\n",
       "      <td>0.1</td>\n",
       "      <td>0.1</td>\n",
       "      <td>0.1</td>\n",
       "      <td>0.1</td>\n",
       "      <td>0.11</td>\n",
       "      <td>0.12</td>\n",
       "    </tr>\n",
       "    <tr>\n",
       "      <th>4</th>\n",
       "      <td>id_0</td>\n",
       "      <td>NO</td>\n",
       "      <td>0.6</td>\n",
       "      <td>0.4</td>\n",
       "      <td>0.3</td>\n",
       "      <td>0.3</td>\n",
       "      <td>0.3</td>\n",
       "      <td>0.7</td>\n",
       "      <td>0.8</td>\n",
       "      <td>0.8</td>\n",
       "      <td>0.9</td>\n",
       "    </tr>\n",
       "  </tbody>\n",
       "</table>\n",
       "</div>"
      ],
      "text/plain": [
       "     0         1     2     3     4     5     6     7     8     9     10\n",
       "0  id_0  AMB_TEMP    15    14    14    13    13    13    13    13    12\n",
       "1  id_0       CH4   1.8   1.8   1.8   1.8   1.8   1.8   1.8   1.8   1.8\n",
       "2  id_0        CO  0.36  0.35  0.34  0.33  0.33  0.34  0.34  0.37  0.42\n",
       "3  id_0      NMHC  0.11  0.09  0.09   0.1   0.1   0.1   0.1  0.11  0.12\n",
       "4  id_0        NO   0.6   0.4   0.3   0.3   0.3   0.7   0.8   0.8   0.9"
      ]
     },
     "execution_count": 6,
     "metadata": {},
     "output_type": "execute_result"
    }
   ],
   "source": [
    "test.head()"
   ]
  },
  {
   "cell_type": "markdown",
   "metadata": {},
   "source": [
    "`step1` 首先将所有RAINFALL中的NR值替换成0， 这里也可以考虑替换成-1， 最后可以修改下测试效果"
   ]
  },
  {
   "cell_type": "code",
   "execution_count": 7,
   "metadata": {},
   "outputs": [],
   "source": [
    "NR = -1\n",
    "test = test.replace('NR', NR)\n",
    "data = data.replace('NR', NR)"
   ]
  },
  {
   "cell_type": "markdown",
   "metadata": {},
   "source": [
    "`step2` 接下来将所有字符串型数字的格式改成浮点数，方便后面的操作"
   ]
  },
  {
   "cell_type": "code",
   "execution_count": 8,
   "metadata": {},
   "outputs": [],
   "source": [
    "for i in np.arange(0, 24):\n",
    "    str_i = str(i)\n",
    "    data[str_i] = data[str_i].astype('float')\n",
    "\n",
    "for i in np.arange(2, 11):\n",
    "    test[i] = test[i].astype('float')"
   ]
  },
  {
   "cell_type": "code",
   "execution_count": 9,
   "metadata": {},
   "outputs": [
    {
     "data": {
      "text/html": [
       "<div>\n",
       "<style scoped>\n",
       "    .dataframe tbody tr th:only-of-type {\n",
       "        vertical-align: middle;\n",
       "    }\n",
       "\n",
       "    .dataframe tbody tr th {\n",
       "        vertical-align: top;\n",
       "    }\n",
       "\n",
       "    .dataframe thead th {\n",
       "        text-align: right;\n",
       "    }\n",
       "</style>\n",
       "<table border=\"1\" class=\"dataframe\">\n",
       "  <thead>\n",
       "    <tr style=\"text-align: right;\">\n",
       "      <th></th>\n",
       "      <th>factor</th>\n",
       "      <th>0</th>\n",
       "      <th>1</th>\n",
       "      <th>2</th>\n",
       "      <th>3</th>\n",
       "      <th>4</th>\n",
       "      <th>5</th>\n",
       "      <th>6</th>\n",
       "      <th>7</th>\n",
       "      <th>8</th>\n",
       "      <th>...</th>\n",
       "      <th>14</th>\n",
       "      <th>15</th>\n",
       "      <th>16</th>\n",
       "      <th>17</th>\n",
       "      <th>18</th>\n",
       "      <th>19</th>\n",
       "      <th>20</th>\n",
       "      <th>21</th>\n",
       "      <th>22</th>\n",
       "      <th>23</th>\n",
       "    </tr>\n",
       "  </thead>\n",
       "  <tbody>\n",
       "    <tr>\n",
       "      <th>0</th>\n",
       "      <td>AMB_TEMP</td>\n",
       "      <td>14.00</td>\n",
       "      <td>14.00</td>\n",
       "      <td>14.00</td>\n",
       "      <td>13.00</td>\n",
       "      <td>12.00</td>\n",
       "      <td>12.00</td>\n",
       "      <td>12.00</td>\n",
       "      <td>12.00</td>\n",
       "      <td>15.00</td>\n",
       "      <td>...</td>\n",
       "      <td>22.00</td>\n",
       "      <td>22.00</td>\n",
       "      <td>21.00</td>\n",
       "      <td>19.00</td>\n",
       "      <td>17.00</td>\n",
       "      <td>16.00</td>\n",
       "      <td>15.00</td>\n",
       "      <td>15.00</td>\n",
       "      <td>15.00</td>\n",
       "      <td>15.00</td>\n",
       "    </tr>\n",
       "    <tr>\n",
       "      <th>1</th>\n",
       "      <td>CH4</td>\n",
       "      <td>1.80</td>\n",
       "      <td>1.80</td>\n",
       "      <td>1.80</td>\n",
       "      <td>1.80</td>\n",
       "      <td>1.80</td>\n",
       "      <td>1.80</td>\n",
       "      <td>1.80</td>\n",
       "      <td>1.80</td>\n",
       "      <td>1.80</td>\n",
       "      <td>...</td>\n",
       "      <td>1.80</td>\n",
       "      <td>1.80</td>\n",
       "      <td>1.80</td>\n",
       "      <td>1.80</td>\n",
       "      <td>1.80</td>\n",
       "      <td>1.80</td>\n",
       "      <td>1.80</td>\n",
       "      <td>1.80</td>\n",
       "      <td>1.80</td>\n",
       "      <td>1.80</td>\n",
       "    </tr>\n",
       "    <tr>\n",
       "      <th>2</th>\n",
       "      <td>CO</td>\n",
       "      <td>0.51</td>\n",
       "      <td>0.41</td>\n",
       "      <td>0.39</td>\n",
       "      <td>0.37</td>\n",
       "      <td>0.35</td>\n",
       "      <td>0.30</td>\n",
       "      <td>0.37</td>\n",
       "      <td>0.47</td>\n",
       "      <td>0.78</td>\n",
       "      <td>...</td>\n",
       "      <td>0.37</td>\n",
       "      <td>0.37</td>\n",
       "      <td>0.47</td>\n",
       "      <td>0.69</td>\n",
       "      <td>0.56</td>\n",
       "      <td>0.45</td>\n",
       "      <td>0.38</td>\n",
       "      <td>0.35</td>\n",
       "      <td>0.36</td>\n",
       "      <td>0.32</td>\n",
       "    </tr>\n",
       "    <tr>\n",
       "      <th>3</th>\n",
       "      <td>NMHC</td>\n",
       "      <td>0.20</td>\n",
       "      <td>0.15</td>\n",
       "      <td>0.13</td>\n",
       "      <td>0.12</td>\n",
       "      <td>0.11</td>\n",
       "      <td>0.06</td>\n",
       "      <td>0.10</td>\n",
       "      <td>0.13</td>\n",
       "      <td>0.26</td>\n",
       "      <td>...</td>\n",
       "      <td>0.10</td>\n",
       "      <td>0.13</td>\n",
       "      <td>0.14</td>\n",
       "      <td>0.23</td>\n",
       "      <td>0.18</td>\n",
       "      <td>0.12</td>\n",
       "      <td>0.10</td>\n",
       "      <td>0.09</td>\n",
       "      <td>0.10</td>\n",
       "      <td>0.08</td>\n",
       "    </tr>\n",
       "    <tr>\n",
       "      <th>4</th>\n",
       "      <td>NO</td>\n",
       "      <td>0.90</td>\n",
       "      <td>0.60</td>\n",
       "      <td>0.50</td>\n",
       "      <td>1.70</td>\n",
       "      <td>1.80</td>\n",
       "      <td>1.50</td>\n",
       "      <td>1.90</td>\n",
       "      <td>2.20</td>\n",
       "      <td>6.60</td>\n",
       "      <td>...</td>\n",
       "      <td>2.50</td>\n",
       "      <td>2.20</td>\n",
       "      <td>2.50</td>\n",
       "      <td>2.30</td>\n",
       "      <td>2.10</td>\n",
       "      <td>1.90</td>\n",
       "      <td>1.50</td>\n",
       "      <td>1.60</td>\n",
       "      <td>1.80</td>\n",
       "      <td>1.50</td>\n",
       "    </tr>\n",
       "  </tbody>\n",
       "</table>\n",
       "<p>5 rows × 25 columns</p>\n",
       "</div>"
      ],
      "text/plain": [
       "     factor      0      1      2      3      4      5      6      7      8  \\\n",
       "0  AMB_TEMP  14.00  14.00  14.00  13.00  12.00  12.00  12.00  12.00  15.00   \n",
       "1       CH4   1.80   1.80   1.80   1.80   1.80   1.80   1.80   1.80   1.80   \n",
       "2        CO   0.51   0.41   0.39   0.37   0.35   0.30   0.37   0.47   0.78   \n",
       "3      NMHC   0.20   0.15   0.13   0.12   0.11   0.06   0.10   0.13   0.26   \n",
       "4        NO   0.90   0.60   0.50   1.70   1.80   1.50   1.90   2.20   6.60   \n",
       "\n",
       "   ...       14     15     16     17     18     19     20     21     22     23  \n",
       "0  ...    22.00  22.00  21.00  19.00  17.00  16.00  15.00  15.00  15.00  15.00  \n",
       "1  ...     1.80   1.80   1.80   1.80   1.80   1.80   1.80   1.80   1.80   1.80  \n",
       "2  ...     0.37   0.37   0.47   0.69   0.56   0.45   0.38   0.35   0.36   0.32  \n",
       "3  ...     0.10   0.13   0.14   0.23   0.18   0.12   0.10   0.09   0.10   0.08  \n",
       "4  ...     2.50   2.20   2.50   2.30   2.10   1.90   1.50   1.60   1.80   1.50  \n",
       "\n",
       "[5 rows x 25 columns]"
      ]
     },
     "execution_count": 9,
     "metadata": {},
     "output_type": "execute_result"
    }
   ],
   "source": [
    "data.head()"
   ]
  },
  {
   "cell_type": "code",
   "execution_count": 10,
   "metadata": {},
   "outputs": [
    {
     "data": {
      "text/html": [
       "<div>\n",
       "<style scoped>\n",
       "    .dataframe tbody tr th:only-of-type {\n",
       "        vertical-align: middle;\n",
       "    }\n",
       "\n",
       "    .dataframe tbody tr th {\n",
       "        vertical-align: top;\n",
       "    }\n",
       "\n",
       "    .dataframe thead th {\n",
       "        text-align: right;\n",
       "    }\n",
       "</style>\n",
       "<table border=\"1\" class=\"dataframe\">\n",
       "  <thead>\n",
       "    <tr style=\"text-align: right;\">\n",
       "      <th></th>\n",
       "      <th>0</th>\n",
       "      <th>1</th>\n",
       "      <th>2</th>\n",
       "      <th>3</th>\n",
       "      <th>4</th>\n",
       "      <th>5</th>\n",
       "      <th>6</th>\n",
       "      <th>7</th>\n",
       "      <th>8</th>\n",
       "      <th>9</th>\n",
       "      <th>10</th>\n",
       "    </tr>\n",
       "  </thead>\n",
       "  <tbody>\n",
       "    <tr>\n",
       "      <th>0</th>\n",
       "      <td>id_0</td>\n",
       "      <td>AMB_TEMP</td>\n",
       "      <td>15.00</td>\n",
       "      <td>14.00</td>\n",
       "      <td>14.00</td>\n",
       "      <td>13.00</td>\n",
       "      <td>13.00</td>\n",
       "      <td>13.00</td>\n",
       "      <td>13.00</td>\n",
       "      <td>13.00</td>\n",
       "      <td>12.00</td>\n",
       "    </tr>\n",
       "    <tr>\n",
       "      <th>1</th>\n",
       "      <td>id_0</td>\n",
       "      <td>CH4</td>\n",
       "      <td>1.80</td>\n",
       "      <td>1.80</td>\n",
       "      <td>1.80</td>\n",
       "      <td>1.80</td>\n",
       "      <td>1.80</td>\n",
       "      <td>1.80</td>\n",
       "      <td>1.80</td>\n",
       "      <td>1.80</td>\n",
       "      <td>1.80</td>\n",
       "    </tr>\n",
       "    <tr>\n",
       "      <th>2</th>\n",
       "      <td>id_0</td>\n",
       "      <td>CO</td>\n",
       "      <td>0.36</td>\n",
       "      <td>0.35</td>\n",
       "      <td>0.34</td>\n",
       "      <td>0.33</td>\n",
       "      <td>0.33</td>\n",
       "      <td>0.34</td>\n",
       "      <td>0.34</td>\n",
       "      <td>0.37</td>\n",
       "      <td>0.42</td>\n",
       "    </tr>\n",
       "    <tr>\n",
       "      <th>3</th>\n",
       "      <td>id_0</td>\n",
       "      <td>NMHC</td>\n",
       "      <td>0.11</td>\n",
       "      <td>0.09</td>\n",
       "      <td>0.09</td>\n",
       "      <td>0.10</td>\n",
       "      <td>0.10</td>\n",
       "      <td>0.10</td>\n",
       "      <td>0.10</td>\n",
       "      <td>0.11</td>\n",
       "      <td>0.12</td>\n",
       "    </tr>\n",
       "    <tr>\n",
       "      <th>4</th>\n",
       "      <td>id_0</td>\n",
       "      <td>NO</td>\n",
       "      <td>0.60</td>\n",
       "      <td>0.40</td>\n",
       "      <td>0.30</td>\n",
       "      <td>0.30</td>\n",
       "      <td>0.30</td>\n",
       "      <td>0.70</td>\n",
       "      <td>0.80</td>\n",
       "      <td>0.80</td>\n",
       "      <td>0.90</td>\n",
       "    </tr>\n",
       "  </tbody>\n",
       "</table>\n",
       "</div>"
      ],
      "text/plain": [
       "     0         1      2      3      4      5      6      7      8      9   \\\n",
       "0  id_0  AMB_TEMP  15.00  14.00  14.00  13.00  13.00  13.00  13.00  13.00   \n",
       "1  id_0       CH4   1.80   1.80   1.80   1.80   1.80   1.80   1.80   1.80   \n",
       "2  id_0        CO   0.36   0.35   0.34   0.33   0.33   0.34   0.34   0.37   \n",
       "3  id_0      NMHC   0.11   0.09   0.09   0.10   0.10   0.10   0.10   0.11   \n",
       "4  id_0        NO   0.60   0.40   0.30   0.30   0.30   0.70   0.80   0.80   \n",
       "\n",
       "      10  \n",
       "0  12.00  \n",
       "1   1.80  \n",
       "2   0.42  \n",
       "3   0.12  \n",
       "4   0.90  "
      ]
     },
     "execution_count": 10,
     "metadata": {},
     "output_type": "execute_result"
    }
   ],
   "source": [
    "test.head()"
   ]
  },
  {
   "cell_type": "markdown",
   "metadata": {},
   "source": [
    "## 1.2 相关系数\n",
    "将数据堆积成列， 计算其相关系数， 只取相关系数高一点的前几项"
   ]
  },
  {
   "cell_type": "code",
   "execution_count": 11,
   "metadata": {},
   "outputs": [],
   "source": [
    "words = np.array(data.factor)[:18]\n",
    "arrange_data = pd.DataFrame(columns=words)"
   ]
  },
  {
   "cell_type": "code",
   "execution_count": 12,
   "metadata": {},
   "outputs": [],
   "source": [
    "for i in np.arange(int((data.shape[0]) / 18)):\n",
    "    select = data.iloc[range(i*18, i*18 + 18), :]\n",
    "    value = (select.iloc[:,1:]).T\n",
    "    value.columns = words\n",
    "    arrange_data = arrange_data.append(value, ignore_index=True)"
   ]
  },
  {
   "cell_type": "code",
   "execution_count": 13,
   "metadata": {},
   "outputs": [],
   "source": [
    "index_wa_pm2_5 = arrange_data[arrange_data['PM2.5'] < 0].index"
   ]
  },
  {
   "cell_type": "code",
   "execution_count": 14,
   "metadata": {},
   "outputs": [
    {
     "data": {
      "text/plain": [
       "Int64Index([ 469, 1450, 1618, 1791, 2024, 2025, 2026, 2027, 2028, 2029, 2041,\n",
       "            2042, 2043, 2049, 2059, 2060, 2061, 2065, 2066, 2067, 2068, 2069,\n",
       "            2070, 2071, 2072, 2073, 2074, 2075, 2218, 2219, 3061, 3062, 5177,\n",
       "            5178, 5179, 5180, 5181, 5182, 5183, 5184, 5185, 5186, 5187, 5188,\n",
       "            5189, 5190, 5191, 5192, 5193, 5194, 5460, 5461],\n",
       "           dtype='int64')"
      ]
     },
     "execution_count": 14,
     "metadata": {},
     "output_type": "execute_result"
    }
   ],
   "source": [
    "index_wa_pm2_5"
   ]
  },
  {
   "cell_type": "code",
   "execution_count": 15,
   "metadata": {},
   "outputs": [],
   "source": [
    "arrange_data.loc[index_wa_pm2_5, 'PM2.5'] = arrange_data['PM2.5'].mean()"
   ]
  },
  {
   "cell_type": "code",
   "execution_count": 16,
   "metadata": {
    "scrolled": true
   },
   "outputs": [
    {
     "name": "stdout",
     "output_type": "stream",
     "text": [
      "AMB_TEMP      0.019570\n",
      "NO            0.029595\n",
      "WS_HR         0.051902\n",
      "RAINFALL      0.072021\n",
      "WIND_SPEED    0.086174\n",
      "WIND_DIREC    0.156301\n",
      "WD_HR         0.184678\n",
      "CH4           0.252224\n",
      "RH            0.260336\n",
      "CO            0.284343\n",
      "NMHC          0.292115\n",
      "THC           0.351392\n",
      "O3            0.359572\n",
      "SO2           0.369728\n",
      "NOx           0.376775\n",
      "NO2           0.450664\n",
      "PM10          0.771636\n",
      "PM2.5         1.000000\n",
      "Name: PM2.5, dtype: float64\n"
     ]
    }
   ],
   "source": [
    "corr = abs(arrange_data.corr()['PM2.5']).sort_values()\n",
    "print(corr)\n",
    "##这里先考虑相关系数d大于0.3\n",
    "corr_list = list(corr[corr > 0.2].index)"
   ]
  },
  {
   "cell_type": "markdown",
   "metadata": {},
   "source": [
    "## 1.3 训练模型\n",
    "计算X_train, Y_train, 调用sckit_learn进行训练"
   ]
  },
  {
   "cell_type": "code",
   "execution_count": 17,
   "metadata": {},
   "outputs": [],
   "source": [
    "arrange_data = arrange_data.loc[:, corr_list]"
   ]
  },
  {
   "cell_type": "markdown",
   "metadata": {},
   "source": [
    "将其所有向量正规化"
   ]
  },
  {
   "cell_type": "code",
   "execution_count": 18,
   "metadata": {},
   "outputs": [],
   "source": [
    "for i in np.arange(arrange_data.shape[1]):\n",
    "    arrange_data.iloc[:,i] = (arrange_data.iloc[:,i] - np.mean(arrange_data.iloc[:,i])) / np.std(arrange_data.iloc[:,i])"
   ]
  },
  {
   "cell_type": "code",
   "execution_count": 19,
   "metadata": {},
   "outputs": [
    {
     "data": {
      "text/html": [
       "<div>\n",
       "<style scoped>\n",
       "    .dataframe tbody tr th:only-of-type {\n",
       "        vertical-align: middle;\n",
       "    }\n",
       "\n",
       "    .dataframe tbody tr th {\n",
       "        vertical-align: top;\n",
       "    }\n",
       "\n",
       "    .dataframe thead th {\n",
       "        text-align: right;\n",
       "    }\n",
       "</style>\n",
       "<table border=\"1\" class=\"dataframe\">\n",
       "  <thead>\n",
       "    <tr style=\"text-align: right;\">\n",
       "      <th></th>\n",
       "      <th>CH4</th>\n",
       "      <th>RH</th>\n",
       "      <th>CO</th>\n",
       "      <th>NMHC</th>\n",
       "      <th>THC</th>\n",
       "      <th>O3</th>\n",
       "      <th>SO2</th>\n",
       "      <th>NOx</th>\n",
       "      <th>NO2</th>\n",
       "      <th>PM10</th>\n",
       "      <th>PM2.5</th>\n",
       "    </tr>\n",
       "  </thead>\n",
       "  <tbody>\n",
       "    <tr>\n",
       "      <th>0</th>\n",
       "      <td>0.779246</td>\n",
       "      <td>0.282244</td>\n",
       "      <td>0.375952</td>\n",
       "      <td>0.569336</td>\n",
       "      <td>0.881886</td>\n",
       "      <td>-0.850475</td>\n",
       "      <td>-0.530127</td>\n",
       "      <td>0.627241</td>\n",
       "      <td>0.949409</td>\n",
       "      <td>0.506895</td>\n",
       "      <td>0.265289</td>\n",
       "    </tr>\n",
       "    <tr>\n",
       "      <th>1</th>\n",
       "      <td>0.779246</td>\n",
       "      <td>-0.391399</td>\n",
       "      <td>0.066875</td>\n",
       "      <td>0.091488</td>\n",
       "      <td>0.881886</td>\n",
       "      <td>-0.101887</td>\n",
       "      <td>-0.420042</td>\n",
       "      <td>-0.323069</td>\n",
       "      <td>-0.149667</td>\n",
       "      <td>0.278062</td>\n",
       "      <td>1.052062</td>\n",
       "    </tr>\n",
       "    <tr>\n",
       "      <th>2</th>\n",
       "      <td>0.779246</td>\n",
       "      <td>-0.466248</td>\n",
       "      <td>0.005060</td>\n",
       "      <td>-0.099651</td>\n",
       "      <td>0.881886</td>\n",
       "      <td>-0.262298</td>\n",
       "      <td>-0.585169</td>\n",
       "      <td>-0.468255</td>\n",
       "      <td>-0.311295</td>\n",
       "      <td>0.201785</td>\n",
       "      <td>0.870499</td>\n",
       "    </tr>\n",
       "    <tr>\n",
       "      <th>3</th>\n",
       "      <td>0.779246</td>\n",
       "      <td>0.057696</td>\n",
       "      <td>-0.056755</td>\n",
       "      <td>-0.195221</td>\n",
       "      <td>0.331901</td>\n",
       "      <td>-0.476181</td>\n",
       "      <td>-0.640211</td>\n",
       "      <td>-0.481454</td>\n",
       "      <td>-0.521413</td>\n",
       "      <td>-0.294020</td>\n",
       "      <td>0.809978</td>\n",
       "    </tr>\n",
       "    <tr>\n",
       "      <th>4</th>\n",
       "      <td>0.779246</td>\n",
       "      <td>-0.092002</td>\n",
       "      <td>-0.118571</td>\n",
       "      <td>-0.290791</td>\n",
       "      <td>0.331901</td>\n",
       "      <td>-0.422710</td>\n",
       "      <td>-0.475084</td>\n",
       "      <td>-0.494653</td>\n",
       "      <td>-0.537576</td>\n",
       "      <td>-0.675408</td>\n",
       "      <td>0.567894</td>\n",
       "    </tr>\n",
       "  </tbody>\n",
       "</table>\n",
       "</div>"
      ],
      "text/plain": [
       "        CH4        RH        CO      NMHC       THC        O3       SO2  \\\n",
       "0  0.779246  0.282244  0.375952  0.569336  0.881886 -0.850475 -0.530127   \n",
       "1  0.779246 -0.391399  0.066875  0.091488  0.881886 -0.101887 -0.420042   \n",
       "2  0.779246 -0.466248  0.005060 -0.099651  0.881886 -0.262298 -0.585169   \n",
       "3  0.779246  0.057696 -0.056755 -0.195221  0.331901 -0.476181 -0.640211   \n",
       "4  0.779246 -0.092002 -0.118571 -0.290791  0.331901 -0.422710 -0.475084   \n",
       "\n",
       "        NOx       NO2      PM10     PM2.5  \n",
       "0  0.627241  0.949409  0.506895  0.265289  \n",
       "1 -0.323069 -0.149667  0.278062  1.052062  \n",
       "2 -0.468255 -0.311295  0.201785  0.870499  \n",
       "3 -0.481454 -0.521413 -0.294020  0.809978  \n",
       "4 -0.494653 -0.537576 -0.675408  0.567894  "
      ]
     },
     "execution_count": 19,
     "metadata": {},
     "output_type": "execute_result"
    }
   ],
   "source": [
    "arrange_data.head()"
   ]
  },
  {
   "cell_type": "code",
   "execution_count": 20,
   "metadata": {},
   "outputs": [],
   "source": [
    "X_train = []\n",
    "Y_train = []"
   ]
  },
  {
   "cell_type": "code",
   "execution_count": 21,
   "metadata": {},
   "outputs": [],
   "source": [
    "for i in np.arange(int((arrange_data.shape[0]) / 24 / 20)):\n",
    "    current_month = arrange_data.iloc[np.arange(i * 24 * 20, (i + 1)*24*20), :]\n",
    "    for j in np.arange(len(current_month) - 9):\n",
    "        x = current_month.iloc[range(j, j + 9), :]\n",
    "        y = current_month.iloc[j+9, :]\n",
    "        X_train.append(list(np.array(x).flatten()))\n",
    "        Y_train.append([y['PM2.5']])"
   ]
  },
  {
   "cell_type": "code",
   "execution_count": 22,
   "metadata": {},
   "outputs": [
    {
     "data": {
      "text/plain": [
       "0.8272456005510126"
      ]
     },
     "execution_count": 22,
     "metadata": {},
     "output_type": "execute_result"
    }
   ],
   "source": [
    "model = LinearRegression(normalize=True, fit_intercept=True)\n",
    "np.average(cross_val_score(model, X_train, Y_train, cv=10))"
   ]
  },
  {
   "cell_type": "code",
   "execution_count": 23,
   "metadata": {},
   "outputs": [
    {
     "data": {
      "text/plain": [
       "LinearRegression(copy_X=True, fit_intercept=True, n_jobs=1, normalize=True)"
      ]
     },
     "execution_count": 23,
     "metadata": {},
     "output_type": "execute_result"
    }
   ],
   "source": [
    "model.fit(X_train, Y_train)"
   ]
  },
  {
   "cell_type": "markdown",
   "metadata": {},
   "source": [
    "整理测试数据集"
   ]
  },
  {
   "cell_type": "markdown",
   "metadata": {},
   "source": [
    "# 2.测试"
   ]
  },
  {
   "cell_type": "markdown",
   "metadata": {},
   "source": [
    "## 2.1 整理test_data "
   ]
  },
  {
   "cell_type": "code",
   "execution_count": 24,
   "metadata": {},
   "outputs": [],
   "source": [
    "arrange_test_data = pd.DataFrame(columns=words)\n",
    "\n",
    "for i in np.arange(int((test.shape[0]) / 18)):\n",
    "    select = test.iloc[range(i*18, i*18 + 18), :]\n",
    "    value = (select.iloc[:,2:]).T\n",
    "    value.columns = words\n",
    "    arrange_test_data = arrange_test_data.append(value)\n",
    "    \n",
    "arrange_test_data = arrange_test_data.loc[:, corr_list]"
   ]
  },
  {
   "cell_type": "code",
   "execution_count": 25,
   "metadata": {},
   "outputs": [],
   "source": [
    "PM_mean = np.mean(arrange_test_data['PM2.5'])\n",
    "PM_std = np.std(arrange_test_data['PM2.5'])"
   ]
  },
  {
   "cell_type": "code",
   "execution_count": 26,
   "metadata": {},
   "outputs": [],
   "source": [
    "for i in np.arange(arrange_test_data.shape[1]):\n",
    "    arrange_test_data.iloc[:,i] = (arrange_test_data.iloc[:,i] - np.mean(arrange_test_data.iloc[:,i])) / np.std(arrange_test_data.iloc[:,i])"
   ]
  },
  {
   "cell_type": "code",
   "execution_count": 27,
   "metadata": {},
   "outputs": [
    {
     "data": {
      "text/html": [
       "<div>\n",
       "<style scoped>\n",
       "    .dataframe tbody tr th:only-of-type {\n",
       "        vertical-align: middle;\n",
       "    }\n",
       "\n",
       "    .dataframe tbody tr th {\n",
       "        vertical-align: top;\n",
       "    }\n",
       "\n",
       "    .dataframe thead th {\n",
       "        text-align: right;\n",
       "    }\n",
       "</style>\n",
       "<table border=\"1\" class=\"dataframe\">\n",
       "  <thead>\n",
       "    <tr style=\"text-align: right;\">\n",
       "      <th></th>\n",
       "      <th>CH4</th>\n",
       "      <th>RH</th>\n",
       "      <th>CO</th>\n",
       "      <th>NMHC</th>\n",
       "      <th>THC</th>\n",
       "      <th>O3</th>\n",
       "      <th>SO2</th>\n",
       "      <th>NOx</th>\n",
       "      <th>NO2</th>\n",
       "      <th>PM10</th>\n",
       "      <th>PM2.5</th>\n",
       "    </tr>\n",
       "  </thead>\n",
       "  <tbody>\n",
       "    <tr>\n",
       "      <th>2</th>\n",
       "      <td>0.926332</td>\n",
       "      <td>0.231311</td>\n",
       "      <td>-0.171431</td>\n",
       "      <td>-0.430157</td>\n",
       "      <td>0.193980</td>\n",
       "      <td>0.113023</td>\n",
       "      <td>-1.131638</td>\n",
       "      <td>-0.425977</td>\n",
       "      <td>-0.281254</td>\n",
       "      <td>0.007036</td>\n",
       "      <td>-0.027917</td>\n",
       "    </tr>\n",
       "    <tr>\n",
       "      <th>3</th>\n",
       "      <td>0.926332</td>\n",
       "      <td>-0.059257</td>\n",
       "      <td>-0.215788</td>\n",
       "      <td>-0.625027</td>\n",
       "      <td>-0.425838</td>\n",
       "      <td>0.495740</td>\n",
       "      <td>-1.131638</td>\n",
       "      <td>-0.721389</td>\n",
       "      <td>-0.611945</td>\n",
       "      <td>0.007036</td>\n",
       "      <td>-0.680324</td>\n",
       "    </tr>\n",
       "    <tr>\n",
       "      <th>4</th>\n",
       "      <td>0.926332</td>\n",
       "      <td>-0.059257</td>\n",
       "      <td>-0.260145</td>\n",
       "      <td>-0.625027</td>\n",
       "      <td>-0.425838</td>\n",
       "      <td>0.543580</td>\n",
       "      <td>-1.131638</td>\n",
       "      <td>-0.856786</td>\n",
       "      <td>-0.762259</td>\n",
       "      <td>-0.604515</td>\n",
       "      <td>-0.167719</td>\n",
       "    </tr>\n",
       "    <tr>\n",
       "      <th>5</th>\n",
       "      <td>0.926332</td>\n",
       "      <td>0.086027</td>\n",
       "      <td>-0.304501</td>\n",
       "      <td>-0.527592</td>\n",
       "      <td>0.193980</td>\n",
       "      <td>0.495740</td>\n",
       "      <td>-0.905441</td>\n",
       "      <td>-0.918330</td>\n",
       "      <td>-0.822385</td>\n",
       "      <td>-0.329317</td>\n",
       "      <td>0.065284</td>\n",
       "    </tr>\n",
       "    <tr>\n",
       "      <th>6</th>\n",
       "      <td>0.926332</td>\n",
       "      <td>0.158669</td>\n",
       "      <td>-0.304501</td>\n",
       "      <td>-0.527592</td>\n",
       "      <td>0.193980</td>\n",
       "      <td>0.495740</td>\n",
       "      <td>-0.961990</td>\n",
       "      <td>-0.930639</td>\n",
       "      <td>-0.852448</td>\n",
       "      <td>-0.512782</td>\n",
       "      <td>0.624490</td>\n",
       "    </tr>\n",
       "  </tbody>\n",
       "</table>\n",
       "</div>"
      ],
      "text/plain": [
       "        CH4        RH        CO      NMHC       THC        O3       SO2  \\\n",
       "2  0.926332  0.231311 -0.171431 -0.430157  0.193980  0.113023 -1.131638   \n",
       "3  0.926332 -0.059257 -0.215788 -0.625027 -0.425838  0.495740 -1.131638   \n",
       "4  0.926332 -0.059257 -0.260145 -0.625027 -0.425838  0.543580 -1.131638   \n",
       "5  0.926332  0.086027 -0.304501 -0.527592  0.193980  0.495740 -0.905441   \n",
       "6  0.926332  0.158669 -0.304501 -0.527592  0.193980  0.495740 -0.961990   \n",
       "\n",
       "        NOx       NO2      PM10     PM2.5  \n",
       "2 -0.425977 -0.281254  0.007036 -0.027917  \n",
       "3 -0.721389 -0.611945  0.007036 -0.680324  \n",
       "4 -0.856786 -0.762259 -0.604515 -0.167719  \n",
       "5 -0.918330 -0.822385 -0.329317  0.065284  \n",
       "6 -0.930639 -0.852448 -0.512782  0.624490  "
      ]
     },
     "execution_count": 27,
     "metadata": {},
     "output_type": "execute_result"
    }
   ],
   "source": [
    "arrange_test_data.head()"
   ]
  },
  {
   "cell_type": "markdown",
   "metadata": {},
   "source": [
    "## 2.2 计算Yhat "
   ]
  },
  {
   "cell_type": "code",
   "execution_count": 28,
   "metadata": {},
   "outputs": [],
   "source": [
    "X_test = []\n",
    "for i in np.arange(int((arrange_test_data.shape[0]) / 9)):\n",
    "    current_day = arrange_test_data.iloc[np.arange(i * 9, (i + 1)* 9), :]\n",
    "    X_test.append(list(np.array(current_day).flatten()))\n",
    "    \n",
    "Yhat = ((model.predict(X_test)).flatten()) * PM_std + PM_mean\n",
    "real=pd.read_csv('https://ntumlta.github.io/2017fall-ml-hw1/ans.csv')\n",
    "Y = np.array(real.value)"
   ]
  },
  {
   "cell_type": "code",
   "execution_count": 30,
   "metadata": {},
   "outputs": [
    {
     "data": {
      "text/plain": [
       "4.95306759107929"
      ]
     },
     "execution_count": 30,
     "metadata": {},
     "output_type": "execute_result"
    }
   ],
   "source": [
    "abs(Yhat - Y).sum() / len(Y)"
   ]
  }
 ],
 "metadata": {
  "kernelspec": {
   "display_name": "Python 3",
   "language": "python",
   "name": "python3"
  },
  "language_info": {
   "codemirror_mode": {
    "name": "ipython",
    "version": 3
   },
   "file_extension": ".py",
   "mimetype": "text/x-python",
   "name": "python",
   "nbconvert_exporter": "python",
   "pygments_lexer": "ipython3",
   "version": "3.6.5"
  }
 },
 "nbformat": 4,
 "nbformat_minor": 2
}
